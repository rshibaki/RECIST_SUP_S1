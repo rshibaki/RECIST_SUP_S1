{
 "cells": [
  {
   "cell_type": "code",
   "execution_count": 2,
   "metadata": {},
   "outputs": [],
   "source": [
    "import pandas as pd\n",
    "from hash_module import hash_patient_id"
   ]
  },
  {
   "cell_type": "code",
   "execution_count": 21,
   "metadata": {},
   "outputs": [],
   "source": [
    "file_path = \"data/patients_data.csv\"\n",
    "\n",
    "df = pd.read_csv(file_path)\n",
    "id_lists = df[\"patients_id\"].astype(str).tolist()"
   ]
  },
  {
   "cell_type": "code",
   "execution_count": 23,
   "metadata": {},
   "outputs": [],
   "source": [
    "project_id_lists = []\n",
    "\n",
    "for id in id_lists:\n",
    "    project_id = hash_patient_id(id)\n",
    "    project_id_lists.append(project_id)"
   ]
  },
  {
   "cell_type": "code",
   "execution_count": 25,
   "metadata": {},
   "outputs": [],
   "source": [
    "df[\"project_id\"] = project_id_lists"
   ]
  },
  {
   "cell_type": "code",
   "execution_count": 26,
   "metadata": {},
   "outputs": [
    {
     "data": {
      "text/html": [
       "<div>\n",
       "<style scoped>\n",
       "    .dataframe tbody tr th:only-of-type {\n",
       "        vertical-align: middle;\n",
       "    }\n",
       "\n",
       "    .dataframe tbody tr th {\n",
       "        vertical-align: top;\n",
       "    }\n",
       "\n",
       "    .dataframe thead th {\n",
       "        text-align: right;\n",
       "    }\n",
       "</style>\n",
       "<table border=\"1\" class=\"dataframe\">\n",
       "  <thead>\n",
       "    <tr style=\"text-align: right;\">\n",
       "      <th></th>\n",
       "      <th>patients_id</th>\n",
       "      <th>project_id</th>\n",
       "      <th>start_date</th>\n",
       "      <th>final_date</th>\n",
       "      <th>sex</th>\n",
       "      <th>birth_date</th>\n",
       "      <th>ecog_ps</th>\n",
       "    </tr>\n",
       "  </thead>\n",
       "  <tbody>\n",
       "    <tr>\n",
       "      <th>0</th>\n",
       "      <td>5528135</td>\n",
       "      <td>3wp_4978</td>\n",
       "      <td>20160104</td>\n",
       "      <td>20221124</td>\n",
       "      <td>NaN</td>\n",
       "      <td>NaN</td>\n",
       "      <td>NaN</td>\n",
       "    </tr>\n",
       "    <tr>\n",
       "      <th>1</th>\n",
       "      <td>5791278</td>\n",
       "      <td>Qzr_kAl7a</td>\n",
       "      <td>20160107</td>\n",
       "      <td>20221124</td>\n",
       "      <td>NaN</td>\n",
       "      <td>NaN</td>\n",
       "      <td>NaN</td>\n",
       "    </tr>\n",
       "    <tr>\n",
       "      <th>2</th>\n",
       "      <td>5637678</td>\n",
       "      <td>2ZR_k5rD</td>\n",
       "      <td>20160106</td>\n",
       "      <td>20221124</td>\n",
       "      <td>NaN</td>\n",
       "      <td>NaN</td>\n",
       "      <td>NaN</td>\n",
       "    </tr>\n",
       "    <tr>\n",
       "      <th>3</th>\n",
       "      <td>5496659</td>\n",
       "      <td>ZEK_7VAM9</td>\n",
       "      <td>20160113</td>\n",
       "      <td>20221124</td>\n",
       "      <td>NaN</td>\n",
       "      <td>NaN</td>\n",
       "      <td>NaN</td>\n",
       "    </tr>\n",
       "    <tr>\n",
       "      <th>4</th>\n",
       "      <td>5617464</td>\n",
       "      <td>2ZR_qDWZ</td>\n",
       "      <td>20160113</td>\n",
       "      <td>20221124</td>\n",
       "      <td>NaN</td>\n",
       "      <td>NaN</td>\n",
       "      <td>NaN</td>\n",
       "    </tr>\n",
       "  </tbody>\n",
       "</table>\n",
       "</div>"
      ],
      "text/plain": [
       "   patients_id project_id  start_date  final_date  sex  birth_date  ecog_ps\n",
       "0      5528135   3wp_4978    20160104    20221124  NaN         NaN      NaN\n",
       "1      5791278  Qzr_kAl7a    20160107    20221124  NaN         NaN      NaN\n",
       "2      5637678   2ZR_k5rD    20160106    20221124  NaN         NaN      NaN\n",
       "3      5496659  ZEK_7VAM9    20160113    20221124  NaN         NaN      NaN\n",
       "4      5617464   2ZR_qDWZ    20160113    20221124  NaN         NaN      NaN"
      ]
     },
     "execution_count": 26,
     "metadata": {},
     "output_type": "execute_result"
    }
   ],
   "source": [
    "df.head()"
   ]
  },
  {
   "cell_type": "code",
   "execution_count": 27,
   "metadata": {},
   "outputs": [],
   "source": [
    "# 保存するファイルパス\n",
    "output_file_path = \"data/patients_data_new.csv\"\n",
    "\n",
    "# データフレームをCSVとして保存\n",
    "df.to_csv(output_file_path, index=False)"
   ]
  },
  {
   "cell_type": "code",
   "execution_count": null,
   "metadata": {},
   "outputs": [],
   "source": []
  }
 ],
 "metadata": {
  "kernelspec": {
   "display_name": "RECIST_SUP_S1",
   "language": "python",
   "name": "recist_sup_s1"
  },
  "language_info": {
   "codemirror_mode": {
    "name": "ipython",
    "version": 3
   },
   "file_extension": ".py",
   "mimetype": "text/x-python",
   "name": "python",
   "nbconvert_exporter": "python",
   "pygments_lexer": "ipython3",
   "version": "3.12.3"
  }
 },
 "nbformat": 4,
 "nbformat_minor": 2
}
